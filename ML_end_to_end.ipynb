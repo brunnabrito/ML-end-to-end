{
  "nbformat": 4,
  "nbformat_minor": 0,
  "metadata": {
    "colab": {
      "provenance": [],
      "authorship_tag": "ABX9TyNkoP0bURoXf7CddqYNntCE",
      "include_colab_link": true
    },
    "kernelspec": {
      "name": "python3",
      "display_name": "Python 3"
    },
    "language_info": {
      "name": "python"
    }
  },
  "cells": [
    {
      "cell_type": "markdown",
      "metadata": {
        "id": "view-in-github",
        "colab_type": "text"
      },
      "source": [
        "<a href=\"https://colab.research.google.com/github/brunnabrito/ML-end-to-end/blob/main/ML_end_to_end.ipynb\" target=\"_parent\"><img src=\"https://colab.research.google.com/assets/colab-badge.svg\" alt=\"Open In Colab\"/></a>"
      ]
    },
    {
      "cell_type": "markdown",
      "source": [
        "# Libs necessárias"
      ],
      "metadata": {
        "id": "CN1ZERij-8WP"
      }
    },
    {
      "cell_type": "code",
      "execution_count": null,
      "metadata": {
        "id": "ywhh7M78vDw3"
      },
      "outputs": [],
      "source": [
        "# Libs necessarias\n",
        "import pandas as pd\n",
        "import numpy as np\n",
        "\n",
        "# Lib graficas\n",
        "import matplotlib.pyplot as plt\n",
        "import seaborn as sns\n",
        "\n",
        "# Avisos\n",
        "import warnings\n",
        "warnings.filterwarnings('ignore')\n",
        "\n",
        "# Confiração no pandas\n",
        "pd.set_option('display.max_rows', 200)\n",
        "pd.set_option('display.max_columns', 100)\n",
        "\n",
        "# Configuração no Matplotlib\n",
        "plt.rcParams['figure.figsize'] = (15, 6)\n",
        "plt.style.use('seaborn-darkgrid')"
      ]
    },
    {
      "cell_type": "markdown",
      "source": [
        "\n",
        "\n",
        "#  Exploração dos dados\n",
        "\n"
      ],
      "metadata": {
        "id": "W3a7OoxUAcD5"
      }
    },
    {
      "cell_type": "code",
      "source": [
        "base_dados = pd.read_csv('house_data.csv')\n",
        "\n",
        "base_dados.shape"
      ],
      "metadata": {
        "colab": {
          "base_uri": "https://localhost:8080/"
        },
        "id": "LWKFFEo-_9b7",
        "outputId": "3446831b-33be-41ad-e29d-63282c70ce29"
      },
      "execution_count": null,
      "outputs": [
        {
          "output_type": "execute_result",
          "data": {
            "text/plain": [
              "(10692, 13)"
            ]
          },
          "metadata": {},
          "execution_count": 29
        }
      ]
    },
    {
      "cell_type": "code",
      "source": [
        "base_dados.head()"
      ],
      "metadata": {
        "colab": {
          "base_uri": "https://localhost:8080/",
          "height": 354
        },
        "id": "YbcgnalfBAb4",
        "outputId": "6a4fd4e4-3cd9-4c5b-f32e-7e7cb6201696"
      },
      "execution_count": null,
      "outputs": [
        {
          "output_type": "execute_result",
          "data": {
            "text/plain": [
              "           city  area  rooms  bathroom  parking spaces floor     animal  \\\n",
              "0     São Paulo    70      2         1               1     7      acept   \n",
              "1     São Paulo   320      4         4               0    20      acept   \n",
              "2  Porto Alegre    80      1         1               1     6      acept   \n",
              "3  Porto Alegre    51      2         1               0     2      acept   \n",
              "4     São Paulo    25      1         1               0     1  not acept   \n",
              "\n",
              "       furniture  hoa (R$)  rent amount (R$)  property tax (R$)  \\\n",
              "0      furnished      2065              3300                211   \n",
              "1  not furnished      1200              4960               1750   \n",
              "2  not furnished      1000              2800                  0   \n",
              "3  not furnished       270              1112                 22   \n",
              "4  not furnished         0               800                 25   \n",
              "\n",
              "   fire insurance (R$)  total (R$)  \n",
              "0                   42        5618  \n",
              "1                   63        7973  \n",
              "2                   41        3841  \n",
              "3                   17        1421  \n",
              "4                   11         836  "
            ],
            "text/html": [
              "\n",
              "  <div id=\"df-135c6aa7-6a28-436d-b5e0-b5aaa007defd\">\n",
              "    <div class=\"colab-df-container\">\n",
              "      <div>\n",
              "<style scoped>\n",
              "    .dataframe tbody tr th:only-of-type {\n",
              "        vertical-align: middle;\n",
              "    }\n",
              "\n",
              "    .dataframe tbody tr th {\n",
              "        vertical-align: top;\n",
              "    }\n",
              "\n",
              "    .dataframe thead th {\n",
              "        text-align: right;\n",
              "    }\n",
              "</style>\n",
              "<table border=\"1\" class=\"dataframe\">\n",
              "  <thead>\n",
              "    <tr style=\"text-align: right;\">\n",
              "      <th></th>\n",
              "      <th>city</th>\n",
              "      <th>area</th>\n",
              "      <th>rooms</th>\n",
              "      <th>bathroom</th>\n",
              "      <th>parking spaces</th>\n",
              "      <th>floor</th>\n",
              "      <th>animal</th>\n",
              "      <th>furniture</th>\n",
              "      <th>hoa (R$)</th>\n",
              "      <th>rent amount (R$)</th>\n",
              "      <th>property tax (R$)</th>\n",
              "      <th>fire insurance (R$)</th>\n",
              "      <th>total (R$)</th>\n",
              "    </tr>\n",
              "  </thead>\n",
              "  <tbody>\n",
              "    <tr>\n",
              "      <th>0</th>\n",
              "      <td>São Paulo</td>\n",
              "      <td>70</td>\n",
              "      <td>2</td>\n",
              "      <td>1</td>\n",
              "      <td>1</td>\n",
              "      <td>7</td>\n",
              "      <td>acept</td>\n",
              "      <td>furnished</td>\n",
              "      <td>2065</td>\n",
              "      <td>3300</td>\n",
              "      <td>211</td>\n",
              "      <td>42</td>\n",
              "      <td>5618</td>\n",
              "    </tr>\n",
              "    <tr>\n",
              "      <th>1</th>\n",
              "      <td>São Paulo</td>\n",
              "      <td>320</td>\n",
              "      <td>4</td>\n",
              "      <td>4</td>\n",
              "      <td>0</td>\n",
              "      <td>20</td>\n",
              "      <td>acept</td>\n",
              "      <td>not furnished</td>\n",
              "      <td>1200</td>\n",
              "      <td>4960</td>\n",
              "      <td>1750</td>\n",
              "      <td>63</td>\n",
              "      <td>7973</td>\n",
              "    </tr>\n",
              "    <tr>\n",
              "      <th>2</th>\n",
              "      <td>Porto Alegre</td>\n",
              "      <td>80</td>\n",
              "      <td>1</td>\n",
              "      <td>1</td>\n",
              "      <td>1</td>\n",
              "      <td>6</td>\n",
              "      <td>acept</td>\n",
              "      <td>not furnished</td>\n",
              "      <td>1000</td>\n",
              "      <td>2800</td>\n",
              "      <td>0</td>\n",
              "      <td>41</td>\n",
              "      <td>3841</td>\n",
              "    </tr>\n",
              "    <tr>\n",
              "      <th>3</th>\n",
              "      <td>Porto Alegre</td>\n",
              "      <td>51</td>\n",
              "      <td>2</td>\n",
              "      <td>1</td>\n",
              "      <td>0</td>\n",
              "      <td>2</td>\n",
              "      <td>acept</td>\n",
              "      <td>not furnished</td>\n",
              "      <td>270</td>\n",
              "      <td>1112</td>\n",
              "      <td>22</td>\n",
              "      <td>17</td>\n",
              "      <td>1421</td>\n",
              "    </tr>\n",
              "    <tr>\n",
              "      <th>4</th>\n",
              "      <td>São Paulo</td>\n",
              "      <td>25</td>\n",
              "      <td>1</td>\n",
              "      <td>1</td>\n",
              "      <td>0</td>\n",
              "      <td>1</td>\n",
              "      <td>not acept</td>\n",
              "      <td>not furnished</td>\n",
              "      <td>0</td>\n",
              "      <td>800</td>\n",
              "      <td>25</td>\n",
              "      <td>11</td>\n",
              "      <td>836</td>\n",
              "    </tr>\n",
              "  </tbody>\n",
              "</table>\n",
              "</div>\n",
              "      <button class=\"colab-df-convert\" onclick=\"convertToInteractive('df-135c6aa7-6a28-436d-b5e0-b5aaa007defd')\"\n",
              "              title=\"Convert this dataframe to an interactive table.\"\n",
              "              style=\"display:none;\">\n",
              "        \n",
              "  <svg xmlns=\"http://www.w3.org/2000/svg\" height=\"24px\"viewBox=\"0 0 24 24\"\n",
              "       width=\"24px\">\n",
              "    <path d=\"M0 0h24v24H0V0z\" fill=\"none\"/>\n",
              "    <path d=\"M18.56 5.44l.94 2.06.94-2.06 2.06-.94-2.06-.94-.94-2.06-.94 2.06-2.06.94zm-11 1L8.5 8.5l.94-2.06 2.06-.94-2.06-.94L8.5 2.5l-.94 2.06-2.06.94zm10 10l.94 2.06.94-2.06 2.06-.94-2.06-.94-.94-2.06-.94 2.06-2.06.94z\"/><path d=\"M17.41 7.96l-1.37-1.37c-.4-.4-.92-.59-1.43-.59-.52 0-1.04.2-1.43.59L10.3 9.45l-7.72 7.72c-.78.78-.78 2.05 0 2.83L4 21.41c.39.39.9.59 1.41.59.51 0 1.02-.2 1.41-.59l7.78-7.78 2.81-2.81c.8-.78.8-2.07 0-2.86zM5.41 20L4 18.59l7.72-7.72 1.47 1.35L5.41 20z\"/>\n",
              "  </svg>\n",
              "      </button>\n",
              "      \n",
              "  <style>\n",
              "    .colab-df-container {\n",
              "      display:flex;\n",
              "      flex-wrap:wrap;\n",
              "      gap: 12px;\n",
              "    }\n",
              "\n",
              "    .colab-df-convert {\n",
              "      background-color: #E8F0FE;\n",
              "      border: none;\n",
              "      border-radius: 50%;\n",
              "      cursor: pointer;\n",
              "      display: none;\n",
              "      fill: #1967D2;\n",
              "      height: 32px;\n",
              "      padding: 0 0 0 0;\n",
              "      width: 32px;\n",
              "    }\n",
              "\n",
              "    .colab-df-convert:hover {\n",
              "      background-color: #E2EBFA;\n",
              "      box-shadow: 0px 1px 2px rgba(60, 64, 67, 0.3), 0px 1px 3px 1px rgba(60, 64, 67, 0.15);\n",
              "      fill: #174EA6;\n",
              "    }\n",
              "\n",
              "    [theme=dark] .colab-df-convert {\n",
              "      background-color: #3B4455;\n",
              "      fill: #D2E3FC;\n",
              "    }\n",
              "\n",
              "    [theme=dark] .colab-df-convert:hover {\n",
              "      background-color: #434B5C;\n",
              "      box-shadow: 0px 1px 3px 1px rgba(0, 0, 0, 0.15);\n",
              "      filter: drop-shadow(0px 1px 2px rgba(0, 0, 0, 0.3));\n",
              "      fill: #FFFFFF;\n",
              "    }\n",
              "  </style>\n",
              "\n",
              "      <script>\n",
              "        const buttonEl =\n",
              "          document.querySelector('#df-135c6aa7-6a28-436d-b5e0-b5aaa007defd button.colab-df-convert');\n",
              "        buttonEl.style.display =\n",
              "          google.colab.kernel.accessAllowed ? 'block' : 'none';\n",
              "\n",
              "        async function convertToInteractive(key) {\n",
              "          const element = document.querySelector('#df-135c6aa7-6a28-436d-b5e0-b5aaa007defd');\n",
              "          const dataTable =\n",
              "            await google.colab.kernel.invokeFunction('convertToInteractive',\n",
              "                                                     [key], {});\n",
              "          if (!dataTable) return;\n",
              "\n",
              "          const docLinkHtml = 'Like what you see? Visit the ' +\n",
              "            '<a target=\"_blank\" href=https://colab.research.google.com/notebooks/data_table.ipynb>data table notebook</a>'\n",
              "            + ' to learn more about interactive tables.';\n",
              "          element.innerHTML = '';\n",
              "          dataTable['output_type'] = 'display_data';\n",
              "          await google.colab.output.renderOutput(dataTable, element);\n",
              "          const docLink = document.createElement('div');\n",
              "          docLink.innerHTML = docLinkHtml;\n",
              "          element.appendChild(docLink);\n",
              "        }\n",
              "      </script>\n",
              "    </div>\n",
              "  </div>\n",
              "  "
            ]
          },
          "metadata": {},
          "execution_count": 30
        }
      ]
    },
    {
      "cell_type": "code",
      "source": [
        "base_dados.drop( columns=['fire insurance (R$)', 'total (R$)'], inplace=True )"
      ],
      "metadata": {
        "id": "C21oghPIBGiO"
      },
      "execution_count": null,
      "outputs": []
    },
    {
      "cell_type": "code",
      "source": [
        "base_dados.isnull().sum().sort_values(ascending = False)"
      ],
      "metadata": {
        "colab": {
          "base_uri": "https://localhost:8080/"
        },
        "id": "1GNW6TkIC7B9",
        "outputId": "2f9ddd2f-8959-4b5e-aeef-44ff76390e4f"
      },
      "execution_count": null,
      "outputs": [
        {
          "output_type": "execute_result",
          "data": {
            "text/plain": [
              "city                 0\n",
              "area                 0\n",
              "rooms                0\n",
              "bathroom             0\n",
              "parking spaces       0\n",
              "floor                0\n",
              "animal               0\n",
              "furniture            0\n",
              "hoa (R$)             0\n",
              "rent amount (R$)     0\n",
              "property tax (R$)    0\n",
              "dtype: int64"
            ]
          },
          "metadata": {},
          "execution_count": 32
        }
      ]
    },
    {
      "cell_type": "code",
      "source": [
        "base_dados.nunique()"
      ],
      "metadata": {
        "colab": {
          "base_uri": "https://localhost:8080/"
        },
        "id": "4hBwj0QPDDUu",
        "outputId": "e4891fe7-679f-4d00-bf92-51b42f459cd4"
      },
      "execution_count": null,
      "outputs": [
        {
          "output_type": "execute_result",
          "data": {
            "text/plain": [
              "city                    5\n",
              "area                  517\n",
              "rooms                  11\n",
              "bathroom               10\n",
              "parking spaces         11\n",
              "floor                  35\n",
              "animal                  2\n",
              "furniture               2\n",
              "hoa (R$)             1679\n",
              "rent amount (R$)     1195\n",
              "property tax (R$)    1243\n",
              "dtype: int64"
            ]
          },
          "metadata": {},
          "execution_count": 33
        }
      ]
    },
    {
      "cell_type": "code",
      "source": [
        " base_dados.info()"
      ],
      "metadata": {
        "colab": {
          "base_uri": "https://localhost:8080/"
        },
        "id": "lCbVEjOfDL3t",
        "outputId": "c6f49a15-3e30-4cfb-b07f-9df0f7ba114c"
      },
      "execution_count": null,
      "outputs": [
        {
          "output_type": "stream",
          "name": "stdout",
          "text": [
            "<class 'pandas.core.frame.DataFrame'>\n",
            "RangeIndex: 10692 entries, 0 to 10691\n",
            "Data columns (total 11 columns):\n",
            " #   Column             Non-Null Count  Dtype \n",
            "---  ------             --------------  ----- \n",
            " 0   city               10692 non-null  object\n",
            " 1   area               10692 non-null  int64 \n",
            " 2   rooms              10692 non-null  int64 \n",
            " 3   bathroom           10692 non-null  int64 \n",
            " 4   parking spaces     10692 non-null  int64 \n",
            " 5   floor              10692 non-null  object\n",
            " 6   animal             10692 non-null  object\n",
            " 7   furniture          10692 non-null  object\n",
            " 8   hoa (R$)           10692 non-null  int64 \n",
            " 9   rent amount (R$)   10692 non-null  int64 \n",
            " 10  property tax (R$)  10692 non-null  int64 \n",
            "dtypes: int64(7), object(4)\n",
            "memory usage: 919.0+ KB\n"
          ]
        }
      ]
    },
    {
      "cell_type": "code",
      "source": [
        "base_dados.dtypes.value_counts()"
      ],
      "metadata": {
        "colab": {
          "base_uri": "https://localhost:8080/"
        },
        "id": "6llOzMErDlgd",
        "outputId": "6e9af921-19e5-4707-b78b-268d611c4c7c"
      },
      "execution_count": null,
      "outputs": [
        {
          "output_type": "execute_result",
          "data": {
            "text/plain": [
              "int64     7\n",
              "object    4\n",
              "dtype: int64"
            ]
          },
          "metadata": {},
          "execution_count": 35
        }
      ]
    },
    {
      "cell_type": "markdown",
      "source": [
        "# EDA"
      ],
      "metadata": {
        "id": "OK4TIxfAEWBC"
      }
    },
    {
      "cell_type": "code",
      "source": [
        "# Filtrar os tipos de colunas\n",
        "colunas_categoricas = base_dados.columns[ base_dados.dtypes == object ]\n",
        "colunas_numericas = base_dados.columns[ base_dados.dtypes != object ]\n",
        "\n",
        "colunas_categoricas, colunas_numericas"
      ],
      "metadata": {
        "colab": {
          "base_uri": "https://localhost:8080/"
        },
        "id": "F0tt8Zm3ylVT",
        "outputId": "c989f256-174f-4ec5-b11d-25653d091660"
      },
      "execution_count": null,
      "outputs": [
        {
          "output_type": "execute_result",
          "data": {
            "text/plain": [
              "(Index(['city', 'floor', 'animal', 'furniture'], dtype='object'),\n",
              " Index(['area', 'rooms', 'bathroom', 'parking spaces', 'hoa (R$)',\n",
              "        'rent amount (R$)', 'property tax (R$)'],\n",
              "       dtype='object'))"
            ]
          },
          "metadata": {},
          "execution_count": 36
        }
      ]
    },
    {
      "cell_type": "code",
      "source": [
        "# Analise dos campos objetos\n",
        "base_dados['city'].value_counts( normalize=True ) * 100"
      ],
      "metadata": {
        "colab": {
          "base_uri": "https://localhost:8080/"
        },
        "id": "UV7BRN-JzMb-",
        "outputId": "daf8910c-d6b2-48d8-9f50-9adc4384bbde"
      },
      "execution_count": null,
      "outputs": [
        {
          "output_type": "execute_result",
          "data": {
            "text/plain": [
              "São Paulo         55.059858\n",
              "Rio de Janeiro    14.038533\n",
              "Belo Horizonte    11.765806\n",
              "Porto Alegre      11.157875\n",
              "Campinas           7.977927\n",
              "Name: city, dtype: float64"
            ]
          },
          "metadata": {},
          "execution_count": 37
        }
      ]
    },
    {
      "cell_type": "code",
      "source": [
        "# loop \n",
        "\n",
        "for coluna in colunas_categoricas:\n",
        "  analise = base_dados[coluna].value_counts(normalize = True) * 100\n",
        "  # Mostrando\n",
        "  print( coluna, '\\n', analise, '\\n')"
      ],
      "metadata": {
        "colab": {
          "base_uri": "https://localhost:8080/"
        },
        "id": "MFVFdOgoEblT",
        "outputId": "06d45769-04b3-4ce2-c75a-4b87e7ed28c7"
      },
      "execution_count": null,
      "outputs": [
        {
          "output_type": "stream",
          "name": "stdout",
          "text": [
            "city \n",
            " São Paulo         55.059858\n",
            "Rio de Janeiro    14.038533\n",
            "Belo Horizonte    11.765806\n",
            "Porto Alegre      11.157875\n",
            "Campinas           7.977927\n",
            "Name: city, dtype: float64 \n",
            "\n",
            "floor \n",
            " -      23.017209\n",
            "1      10.110363\n",
            "2       9.212495\n",
            "3       8.707445\n",
            "4       6.995885\n",
            "5       5.611672\n",
            "6       5.041152\n",
            "7       4.648335\n",
            "8       4.582866\n",
            "9       3.451178\n",
            "10      3.338945\n",
            "11      2.833895\n",
            "12      2.403666\n",
            "13      1.870557\n",
            "14      1.589974\n",
            "15      1.374860\n",
            "16      1.019454\n",
            "17      0.897868\n",
            "18      0.701459\n",
            "19      0.495698\n",
            "20      0.411523\n",
            "21      0.392817\n",
            "25      0.233820\n",
            "23      0.233820\n",
            "22      0.224467\n",
            "26      0.187056\n",
            "24      0.177703\n",
            "27      0.074822\n",
            "28      0.056117\n",
            "29      0.046764\n",
            "32      0.018706\n",
            "35      0.009353\n",
            "46      0.009353\n",
            "301     0.009353\n",
            "51      0.009353\n",
            "Name: floor, dtype: float64 \n",
            "\n",
            "animal \n",
            " acept        77.777778\n",
            "not acept    22.222222\n",
            "Name: animal, dtype: float64 \n",
            "\n",
            "furniture \n",
            " not furnished    75.626637\n",
            "furnished        24.373363\n",
            "Name: furniture, dtype: float64 \n",
            "\n"
          ]
        }
      ]
    },
    {
      "cell_type": "code",
      "source": [
        "# Correção nos dados\n",
        "\n",
        "# Ajustando o Andar\n",
        "base_dados.loc[ base_dados['floor'] == '301' ]\n",
        "base_dados.iloc[ 2562, 5 ] = 30\n",
        "\n",
        "# Ajustar o '-'\n",
        "base_dados['floor'] = base_dados['floor'].apply( lambda Registro : 0 if Registro == '-' else Registro )\n",
        "base_dados['floor'] = pd.to_numeric( base_dados['floor'] )\n",
        "\n",
        "# Verificar\n",
        "base_dados.head()"
      ],
      "metadata": {
        "colab": {
          "base_uri": "https://localhost:8080/",
          "height": 206
        },
        "id": "TRUW1QEg09MC",
        "outputId": "097b8b7a-68ac-48e6-f128-1fe30cbe1acc"
      },
      "execution_count": null,
      "outputs": [
        {
          "output_type": "execute_result",
          "data": {
            "text/plain": [
              "           city  area  rooms  bathroom  parking spaces  floor     animal  \\\n",
              "0     São Paulo    70      2         1               1      7      acept   \n",
              "1     São Paulo   320      4         4               0     20      acept   \n",
              "2  Porto Alegre    80      1         1               1      6      acept   \n",
              "3  Porto Alegre    51      2         1               0      2      acept   \n",
              "4     São Paulo    25      1         1               0      1  not acept   \n",
              "\n",
              "       furniture  hoa (R$)  rent amount (R$)  property tax (R$)  \n",
              "0      furnished      2065              3300                211  \n",
              "1  not furnished      1200              4960               1750  \n",
              "2  not furnished      1000              2800                  0  \n",
              "3  not furnished       270              1112                 22  \n",
              "4  not furnished         0               800                 25  "
            ],
            "text/html": [
              "\n",
              "  <div id=\"df-4be6d887-bfd1-40ae-a345-6cb3460feae2\">\n",
              "    <div class=\"colab-df-container\">\n",
              "      <div>\n",
              "<style scoped>\n",
              "    .dataframe tbody tr th:only-of-type {\n",
              "        vertical-align: middle;\n",
              "    }\n",
              "\n",
              "    .dataframe tbody tr th {\n",
              "        vertical-align: top;\n",
              "    }\n",
              "\n",
              "    .dataframe thead th {\n",
              "        text-align: right;\n",
              "    }\n",
              "</style>\n",
              "<table border=\"1\" class=\"dataframe\">\n",
              "  <thead>\n",
              "    <tr style=\"text-align: right;\">\n",
              "      <th></th>\n",
              "      <th>city</th>\n",
              "      <th>area</th>\n",
              "      <th>rooms</th>\n",
              "      <th>bathroom</th>\n",
              "      <th>parking spaces</th>\n",
              "      <th>floor</th>\n",
              "      <th>animal</th>\n",
              "      <th>furniture</th>\n",
              "      <th>hoa (R$)</th>\n",
              "      <th>rent amount (R$)</th>\n",
              "      <th>property tax (R$)</th>\n",
              "    </tr>\n",
              "  </thead>\n",
              "  <tbody>\n",
              "    <tr>\n",
              "      <th>0</th>\n",
              "      <td>São Paulo</td>\n",
              "      <td>70</td>\n",
              "      <td>2</td>\n",
              "      <td>1</td>\n",
              "      <td>1</td>\n",
              "      <td>7</td>\n",
              "      <td>acept</td>\n",
              "      <td>furnished</td>\n",
              "      <td>2065</td>\n",
              "      <td>3300</td>\n",
              "      <td>211</td>\n",
              "    </tr>\n",
              "    <tr>\n",
              "      <th>1</th>\n",
              "      <td>São Paulo</td>\n",
              "      <td>320</td>\n",
              "      <td>4</td>\n",
              "      <td>4</td>\n",
              "      <td>0</td>\n",
              "      <td>20</td>\n",
              "      <td>acept</td>\n",
              "      <td>not furnished</td>\n",
              "      <td>1200</td>\n",
              "      <td>4960</td>\n",
              "      <td>1750</td>\n",
              "    </tr>\n",
              "    <tr>\n",
              "      <th>2</th>\n",
              "      <td>Porto Alegre</td>\n",
              "      <td>80</td>\n",
              "      <td>1</td>\n",
              "      <td>1</td>\n",
              "      <td>1</td>\n",
              "      <td>6</td>\n",
              "      <td>acept</td>\n",
              "      <td>not furnished</td>\n",
              "      <td>1000</td>\n",
              "      <td>2800</td>\n",
              "      <td>0</td>\n",
              "    </tr>\n",
              "    <tr>\n",
              "      <th>3</th>\n",
              "      <td>Porto Alegre</td>\n",
              "      <td>51</td>\n",
              "      <td>2</td>\n",
              "      <td>1</td>\n",
              "      <td>0</td>\n",
              "      <td>2</td>\n",
              "      <td>acept</td>\n",
              "      <td>not furnished</td>\n",
              "      <td>270</td>\n",
              "      <td>1112</td>\n",
              "      <td>22</td>\n",
              "    </tr>\n",
              "    <tr>\n",
              "      <th>4</th>\n",
              "      <td>São Paulo</td>\n",
              "      <td>25</td>\n",
              "      <td>1</td>\n",
              "      <td>1</td>\n",
              "      <td>0</td>\n",
              "      <td>1</td>\n",
              "      <td>not acept</td>\n",
              "      <td>not furnished</td>\n",
              "      <td>0</td>\n",
              "      <td>800</td>\n",
              "      <td>25</td>\n",
              "    </tr>\n",
              "  </tbody>\n",
              "</table>\n",
              "</div>\n",
              "      <button class=\"colab-df-convert\" onclick=\"convertToInteractive('df-4be6d887-bfd1-40ae-a345-6cb3460feae2')\"\n",
              "              title=\"Convert this dataframe to an interactive table.\"\n",
              "              style=\"display:none;\">\n",
              "        \n",
              "  <svg xmlns=\"http://www.w3.org/2000/svg\" height=\"24px\"viewBox=\"0 0 24 24\"\n",
              "       width=\"24px\">\n",
              "    <path d=\"M0 0h24v24H0V0z\" fill=\"none\"/>\n",
              "    <path d=\"M18.56 5.44l.94 2.06.94-2.06 2.06-.94-2.06-.94-.94-2.06-.94 2.06-2.06.94zm-11 1L8.5 8.5l.94-2.06 2.06-.94-2.06-.94L8.5 2.5l-.94 2.06-2.06.94zm10 10l.94 2.06.94-2.06 2.06-.94-2.06-.94-.94-2.06-.94 2.06-2.06.94z\"/><path d=\"M17.41 7.96l-1.37-1.37c-.4-.4-.92-.59-1.43-.59-.52 0-1.04.2-1.43.59L10.3 9.45l-7.72 7.72c-.78.78-.78 2.05 0 2.83L4 21.41c.39.39.9.59 1.41.59.51 0 1.02-.2 1.41-.59l7.78-7.78 2.81-2.81c.8-.78.8-2.07 0-2.86zM5.41 20L4 18.59l7.72-7.72 1.47 1.35L5.41 20z\"/>\n",
              "  </svg>\n",
              "      </button>\n",
              "      \n",
              "  <style>\n",
              "    .colab-df-container {\n",
              "      display:flex;\n",
              "      flex-wrap:wrap;\n",
              "      gap: 12px;\n",
              "    }\n",
              "\n",
              "    .colab-df-convert {\n",
              "      background-color: #E8F0FE;\n",
              "      border: none;\n",
              "      border-radius: 50%;\n",
              "      cursor: pointer;\n",
              "      display: none;\n",
              "      fill: #1967D2;\n",
              "      height: 32px;\n",
              "      padding: 0 0 0 0;\n",
              "      width: 32px;\n",
              "    }\n",
              "\n",
              "    .colab-df-convert:hover {\n",
              "      background-color: #E2EBFA;\n",
              "      box-shadow: 0px 1px 2px rgba(60, 64, 67, 0.3), 0px 1px 3px 1px rgba(60, 64, 67, 0.15);\n",
              "      fill: #174EA6;\n",
              "    }\n",
              "\n",
              "    [theme=dark] .colab-df-convert {\n",
              "      background-color: #3B4455;\n",
              "      fill: #D2E3FC;\n",
              "    }\n",
              "\n",
              "    [theme=dark] .colab-df-convert:hover {\n",
              "      background-color: #434B5C;\n",
              "      box-shadow: 0px 1px 3px 1px rgba(0, 0, 0, 0.15);\n",
              "      filter: drop-shadow(0px 1px 2px rgba(0, 0, 0, 0.3));\n",
              "      fill: #FFFFFF;\n",
              "    }\n",
              "  </style>\n",
              "\n",
              "      <script>\n",
              "        const buttonEl =\n",
              "          document.querySelector('#df-4be6d887-bfd1-40ae-a345-6cb3460feae2 button.colab-df-convert');\n",
              "        buttonEl.style.display =\n",
              "          google.colab.kernel.accessAllowed ? 'block' : 'none';\n",
              "\n",
              "        async function convertToInteractive(key) {\n",
              "          const element = document.querySelector('#df-4be6d887-bfd1-40ae-a345-6cb3460feae2');\n",
              "          const dataTable =\n",
              "            await google.colab.kernel.invokeFunction('convertToInteractive',\n",
              "                                                     [key], {});\n",
              "          if (!dataTable) return;\n",
              "\n",
              "          const docLinkHtml = 'Like what you see? Visit the ' +\n",
              "            '<a target=\"_blank\" href=https://colab.research.google.com/notebooks/data_table.ipynb>data table notebook</a>'\n",
              "            + ' to learn more about interactive tables.';\n",
              "          element.innerHTML = '';\n",
              "          dataTable['output_type'] = 'display_data';\n",
              "          await google.colab.output.renderOutput(dataTable, element);\n",
              "          const docLink = document.createElement('div');\n",
              "          docLink.innerHTML = docLinkHtml;\n",
              "          element.appendChild(docLink);\n",
              "        }\n",
              "      </script>\n",
              "    </div>\n",
              "  </div>\n",
              "  "
            ]
          },
          "metadata": {},
          "execution_count": 39
        }
      ]
    },
    {
      "cell_type": "code",
      "source": [
        "len( colunas_numericas )"
      ],
      "metadata": {
        "colab": {
          "base_uri": "https://localhost:8080/"
        },
        "id": "nDbwlH4V5BfV",
        "outputId": "aee66902-8149-4231-a0f8-34d4a93e31ae"
      },
      "execution_count": null,
      "outputs": [
        {
          "output_type": "execute_result",
          "data": {
            "text/plain": [
              "7"
            ]
          },
          "metadata": {},
          "execution_count": 40
        }
      ]
    },
    {
      "cell_type": "code",
      "source": [
        "# Grid - Gráficos\n",
        "\n",
        "# Tamanho\n",
        "Figura, Eixo = plt.subplots( figsize=(20, 30) )\n",
        "\n",
        "# Cor de fundo\n",
        "Cor_Fundo = '#f5f5f5'\n",
        "Figura.set_facecolor( Cor_Fundo )\n",
        "\n",
        "# Paleta de Cores\n",
        "Paleta_Cores = sns.color_palette( 'flare', len(colunas_numericas) * 2 )\n",
        "\n",
        "# Titulo\n",
        "plt.suptitle('Análise das Variaveis Numericas', fontsize=22, color='#404040', fontweight=600 )\n",
        "\n",
        "# Estrutura\n",
        "Linhas = 7 # (Todas as infos numericas)\n",
        "Colunas = 2 #( Boxplot - Distplot)\n",
        "Posicao = 1 # Posicao inicial do grid\n",
        "\n",
        "# Loop para plotar os gráficos\n",
        "for Coluna in colunas_numericas:\n",
        "\n",
        "  # Plot no Grid -- Boxplot\n",
        "  plt.subplot( Linhas, Colunas, Posicao )\n",
        "\n",
        "  # Titulo\n",
        "  plt.title( f'{Coluna}', loc='left', fontsize=14, fontweight=200 )\n",
        "\n",
        "  # Plot\n",
        "  sns.boxplot( data=base_dados, y=Coluna, showmeans=True, saturation=0.75, \n",
        "              linewidth=1, color=Paleta_Cores[Posicao], width=0.25 )\n",
        "\n",
        "  # Mudar\n",
        "  Posicao += 1\n",
        "\n",
        "  # Plot no Grid -- Distplot\n",
        "  plt.subplot( Linhas, Colunas, Posicao )\n",
        "\n",
        "  # Titulo\n",
        "  plt.title( f'{Coluna}', loc='left', fontsize=14, fontweight=200 )\n",
        "\n",
        "  # Plot\n",
        "  sns.distplot( base_dados[Coluna], color=Paleta_Cores[ Posicao - 1 ] )\n",
        "\n",
        "  # Mudar\n",
        "  Posicao += 1\n",
        "\n",
        "# Ajute de Grid\n",
        "plt.subplots_adjust( top=0.95, hspace=0.3 )"
      ],
      "metadata": {
        "colab": {
          "base_uri": "https://localhost:8080/",
          "height": 1000
        },
        "id": "keIzjAG43YOf",
        "outputId": "3912048e-6d9d-4fe4-ffa6-9b08fb69c4fe"
      },
      "execution_count": null,
      "outputs": [
        {
          "output_type": "display_data",
          "data": {
            "text/plain": [
              "<Figure size 1440x2160 with 14 Axes>"
            ],
            "image/png": "[encoded data removed]"
          },
          "metadata": {}
        }
      ]
    },
    {
      "cell_type": "markdown",
      "source": [
        "# **Eng de Features**"
      ],
      "metadata": {
        "id": "8P2M5eRLAL2s"
      }
    },
    {
      "cell_type": "code",
      "source": [
        "# Ajuste das colunas categoricas\n",
        "base_dados['animal'] = base_dados['animal'].map( {'acept':1, 'not acept':0} )\n",
        "base_dados['furniture'] = base_dados['furniture'].map( {'furnished':1, 'not furnished':0} )\n",
        "\n",
        "# Filtrar a Cidade de São Paulo\n",
        "Filtro_SP = base_dados.loc[ base_dados['city'] == 'São Paulo']\n",
        "\n",
        "# Verificar\n",
        "Filtro_SP.head()"
      ],
      "metadata": {
        "colab": {
          "base_uri": "https://localhost:8080/",
          "height": 206
        },
        "id": "CoMSqQmE_qzB",
        "outputId": "62ab0967-525f-44be-d572-c0f5e661d819"
      },
      "execution_count": null,
      "outputs": [
        {
          "output_type": "execute_result",
          "data": {
            "text/plain": [
              "        city  area  rooms  bathroom  parking spaces  floor  animal  furniture  \\\n",
              "0  São Paulo    70      2         1               1      7       1          1   \n",
              "1  São Paulo   320      4         4               0     20       1          0   \n",
              "4  São Paulo    25      1         1               0      1       0          0   \n",
              "5  São Paulo   376      3         3               7      0       1          0   \n",
              "7  São Paulo   213      4         4               4      4       1          0   \n",
              "\n",
              "   hoa (R$)  rent amount (R$)  property tax (R$)  \n",
              "0      2065              3300                211  \n",
              "1      1200              4960               1750  \n",
              "4         0               800                 25  \n",
              "5         0              8000                834  \n",
              "7      2254              3223               1735  "
            ],
            "text/html": [
              "\n",
              "  <div id=\"df-cbe7c5cc-ab31-47e6-a03f-427e3dde8acf\">\n",
              "    <div class=\"colab-df-container\">\n",
              "      <div>\n",
              "<style scoped>\n",
              "    .dataframe tbody tr th:only-of-type {\n",
              "        vertical-align: middle;\n",
              "    }\n",
              "\n",
              "    .dataframe tbody tr th {\n",
              "        vertical-align: top;\n",
              "    }\n",
              "\n",
              "    .dataframe thead th {\n",
              "        text-align: right;\n",
              "    }\n",
              "</style>\n",
              "<table border=\"1\" class=\"dataframe\">\n",
              "  <thead>\n",
              "    <tr style=\"text-align: right;\">\n",
              "      <th></th>\n",
              "      <th>city</th>\n",
              "      <th>area</th>\n",
              "      <th>rooms</th>\n",
              "      <th>bathroom</th>\n",
              "      <th>parking spaces</th>\n",
              "      <th>floor</th>\n",
              "      <th>animal</th>\n",
              "      <th>furniture</th>\n",
              "      <th>hoa (R$)</th>\n",
              "      <th>rent amount (R$)</th>\n",
              "      <th>property tax (R$)</th>\n",
              "    </tr>\n",
              "  </thead>\n",
              "  <tbody>\n",
              "    <tr>\n",
              "      <th>0</th>\n",
              "      <td>São Paulo</td>\n",
              "      <td>70</td>\n",
              "      <td>2</td>\n",
              "      <td>1</td>\n",
              "      <td>1</td>\n",
              "      <td>7</td>\n",
              "      <td>1</td>\n",
              "      <td>1</td>\n",
              "      <td>2065</td>\n",
              "      <td>3300</td>\n",
              "      <td>211</td>\n",
              "    </tr>\n",
              "    <tr>\n",
              "      <th>1</th>\n",
              "      <td>São Paulo</td>\n",
              "      <td>320</td>\n",
              "      <td>4</td>\n",
              "      <td>4</td>\n",
              "      <td>0</td>\n",
              "      <td>20</td>\n",
              "      <td>1</td>\n",
              "      <td>0</td>\n",
              "      <td>1200</td>\n",
              "      <td>4960</td>\n",
              "      <td>1750</td>\n",
              "    </tr>\n",
              "    <tr>\n",
              "      <th>4</th>\n",
              "      <td>São Paulo</td>\n",
              "      <td>25</td>\n",
              "      <td>1</td>\n",
              "      <td>1</td>\n",
              "      <td>0</td>\n",
              "      <td>1</td>\n",
              "      <td>0</td>\n",
              "      <td>0</td>\n",
              "      <td>0</td>\n",
              "      <td>800</td>\n",
              "      <td>25</td>\n",
              "    </tr>\n",
              "    <tr>\n",
              "      <th>5</th>\n",
              "      <td>São Paulo</td>\n",
              "      <td>376</td>\n",
              "      <td>3</td>\n",
              "      <td>3</td>\n",
              "      <td>7</td>\n",
              "      <td>0</td>\n",
              "      <td>1</td>\n",
              "      <td>0</td>\n",
              "      <td>0</td>\n",
              "      <td>8000</td>\n",
              "      <td>834</td>\n",
              "    </tr>\n",
              "    <tr>\n",
              "      <th>7</th>\n",
              "      <td>São Paulo</td>\n",
              "      <td>213</td>\n",
              "      <td>4</td>\n",
              "      <td>4</td>\n",
              "      <td>4</td>\n",
              "      <td>4</td>\n",
              "      <td>1</td>\n",
              "      <td>0</td>\n",
              "      <td>2254</td>\n",
              "      <td>3223</td>\n",
              "      <td>1735</td>\n",
              "    </tr>\n",
              "  </tbody>\n",
              "</table>\n",
              "</div>\n",
              "      <button class=\"colab-df-convert\" onclick=\"convertToInteractive('df-cbe7c5cc-ab31-47e6-a03f-427e3dde8acf')\"\n",
              "              title=\"Convert this dataframe to an interactive table.\"\n",
              "              style=\"display:none;\">\n",
              "        \n",
              "  <svg xmlns=\"http://www.w3.org/2000/svg\" height=\"24px\"viewBox=\"0 0 24 24\"\n",
              "       width=\"24px\">\n",
              "    <path d=\"M0 0h24v24H0V0z\" fill=\"none\"/>\n",
              "    <path d=\"M18.56 5.44l.94 2.06.94-2.06 2.06-.94-2.06-.94-.94-2.06-.94 2.06-2.06.94zm-11 1L8.5 8.5l.94-2.06 2.06-.94-2.06-.94L8.5 2.5l-.94 2.06-2.06.94zm10 10l.94 2.06.94-2.06 2.06-.94-2.06-.94-.94-2.06-.94 2.06-2.06.94z\"/><path d=\"M17.41 7.96l-1.37-1.37c-.4-.4-.92-.59-1.43-.59-.52 0-1.04.2-1.43.59L10.3 9.45l-7.72 7.72c-.78.78-.78 2.05 0 2.83L4 21.41c.39.39.9.59 1.41.59.51 0 1.02-.2 1.41-.59l7.78-7.78 2.81-2.81c.8-.78.8-2.07 0-2.86zM5.41 20L4 18.59l7.72-7.72 1.47 1.35L5.41 20z\"/>\n",
              "  </svg>\n",
              "      </button>\n",
              "      \n",
              "  <style>\n",
              "    .colab-df-container {\n",
              "      display:flex;\n",
              "      flex-wrap:wrap;\n",
              "      gap: 12px;\n",
              "    }\n",
              "\n",
              "    .colab-df-convert {\n",
              "      background-color: #E8F0FE;\n",
              "      border: none;\n",
              "      border-radius: 50%;\n",
              "      cursor: pointer;\n",
              "      display: none;\n",
              "      fill: #1967D2;\n",
              "      height: 32px;\n",
              "      padding: 0 0 0 0;\n",
              "      width: 32px;\n",
              "    }\n",
              "\n",
              "    .colab-df-convert:hover {\n",
              "      background-color: #E2EBFA;\n",
              "      box-shadow: 0px 1px 2px rgba(60, 64, 67, 0.3), 0px 1px 3px 1px rgba(60, 64, 67, 0.15);\n",
              "      fill: #174EA6;\n",
              "    }\n",
              "\n",
              "    [theme=dark] .colab-df-convert {\n",
              "      background-color: #3B4455;\n",
              "      fill: #D2E3FC;\n",
              "    }\n",
              "\n",
              "    [theme=dark] .colab-df-convert:hover {\n",
              "      background-color: #434B5C;\n",
              "      box-shadow: 0px 1px 3px 1px rgba(0, 0, 0, 0.15);\n",
              "      filter: drop-shadow(0px 1px 2px rgba(0, 0, 0, 0.3));\n",
              "      fill: #FFFFFF;\n",
              "    }\n",
              "  </style>\n",
              "\n",
              "      <script>\n",
              "        const buttonEl =\n",
              "          document.querySelector('#df-cbe7c5cc-ab31-47e6-a03f-427e3dde8acf button.colab-df-convert');\n",
              "        buttonEl.style.display =\n",
              "          google.colab.kernel.accessAllowed ? 'block' : 'none';\n",
              "\n",
              "        async function convertToInteractive(key) {\n",
              "          const element = document.querySelector('#df-cbe7c5cc-ab31-47e6-a03f-427e3dde8acf');\n",
              "          const dataTable =\n",
              "            await google.colab.kernel.invokeFunction('convertToInteractive',\n",
              "                                                     [key], {});\n",
              "          if (!dataTable) return;\n",
              "\n",
              "          const docLinkHtml = 'Like what you see? Visit the ' +\n",
              "            '<a target=\"_blank\" href=https://colab.research.google.com/notebooks/data_table.ipynb>data table notebook</a>'\n",
              "            + ' to learn more about interactive tables.';\n",
              "          element.innerHTML = '';\n",
              "          dataTable['output_type'] = 'display_data';\n",
              "          await google.colab.output.renderOutput(dataTable, element);\n",
              "          const docLink = document.createElement('div');\n",
              "          docLink.innerHTML = docLinkHtml;\n",
              "          element.appendChild(docLink);\n",
              "        }\n",
              "      </script>\n",
              "    </div>\n",
              "  </div>\n",
              "  "
            ]
          },
          "metadata": {},
          "execution_count": 42
        }
      ]
    },
    {
      "cell_type": "code",
      "source": [
        "# Retirando a Coluna Cidade\n",
        "Filtro_SP.drop( columns=['city'], inplace=True )"
      ],
      "metadata": {
        "id": "kdFyuVx2CNVS"
      },
      "execution_count": null,
      "outputs": []
    },
    {
      "cell_type": "code",
      "source": [
        "# Separa os dados\n",
        "Caracteristicas = Filtro_SP.drop( columns=['rent amount (R$)'] )\n",
        "Previsor = Filtro_SP['rent amount (R$)']\n",
        "\n",
        "# VErificar\n",
        "Caracteristicas.shape, Previsor.shape"
      ],
      "metadata": {
        "colab": {
          "base_uri": "https://localhost:8080/"
        },
        "id": "XIi-Oqt2Cd4y",
        "outputId": "0e8cf838-04e3-4c35-d867-de7e2f5a4bf9"
      },
      "execution_count": null,
      "outputs": [
        {
          "output_type": "execute_result",
          "data": {
            "text/plain": [
              "((5887, 9), (5887,))"
            ]
          },
          "metadata": {},
          "execution_count": 44
        }
      ]
    },
    {
      "cell_type": "code",
      "source": [
        "# Correlação\n",
        "Filtro_SP.corr()\n",
        "\n",
        "# Proxima de 1 - Correlação Possitva [ Ambas Sobem ]\n",
        "# Proxima de -1 - Correlação Negativa [ Uma sobe outra desce ]"
      ],
      "metadata": {
        "colab": {
          "base_uri": "https://localhost:8080/",
          "height": 459
        },
        "id": "9cwQhrMbDjzj",
        "outputId": "a9247e2a-d7db-4b00-e903-26d1d098b3c1"
      },
      "execution_count": null,
      "outputs": [
        {
          "output_type": "execute_result",
          "data": {
            "text/plain": [
              "                       area     rooms  bathroom  parking spaces     floor  \\\n",
              "area               1.000000  0.306863  0.316543        0.300795 -0.038790   \n",
              "rooms              0.306863  1.000000  0.759432        0.645041 -0.092117   \n",
              "bathroom           0.316543  0.759432  1.000000        0.703530 -0.015503   \n",
              "parking spaces     0.300795  0.645041  0.703530        1.000000 -0.038378   \n",
              "floor             -0.038790 -0.092117 -0.015503       -0.038378  1.000000   \n",
              "animal             0.073565  0.213963  0.159097        0.165253 -0.014202   \n",
              "furniture         -0.018145 -0.088931  0.005864       -0.015155  0.135180   \n",
              "hoa (R$)           0.056091  0.136343  0.163205        0.115951  0.107211   \n",
              "rent amount (R$)   0.274749  0.537622  0.638924        0.573373  0.065294   \n",
              "property tax (R$)  0.065289  0.071702  0.101616        0.092362  0.005672   \n",
              "\n",
              "                     animal  furniture  hoa (R$)  rent amount (R$)  \\\n",
              "area               0.073565  -0.018145  0.056091          0.274749   \n",
              "rooms              0.213963  -0.088931  0.136343          0.537622   \n",
              "bathroom           0.159097   0.005864  0.163205          0.638924   \n",
              "parking spaces     0.165253  -0.015155  0.115951          0.573373   \n",
              "floor             -0.014202   0.135180  0.107211          0.065294   \n",
              "animal             1.000000  -0.066208  0.020575          0.107147   \n",
              "furniture         -0.066208   1.000000  0.042860          0.154316   \n",
              "hoa (R$)           0.020575   0.042860  1.000000          0.188147   \n",
              "rent amount (R$)   0.107147   0.154316  0.188147          1.000000   \n",
              "property tax (R$) -0.005308  -0.007852  0.028872          0.091749   \n",
              "\n",
              "                   property tax (R$)  \n",
              "area                        0.065289  \n",
              "rooms                       0.071702  \n",
              "bathroom                    0.101616  \n",
              "parking spaces              0.092362  \n",
              "floor                       0.005672  \n",
              "animal                     -0.005308  \n",
              "furniture                  -0.007852  \n",
              "hoa (R$)                    0.028872  \n",
              "rent amount (R$)            0.091749  \n",
              "property tax (R$)           1.000000  "
            ],
            "text/html": [
              "\n",
              "  <div id=\"df-e9c60d55-5e20-4fcb-b541-6988656f9ce0\">\n",
              "    <div class=\"colab-df-container\">\n",
              "      <div>\n",
              "<style scoped>\n",
              "    .dataframe tbody tr th:only-of-type {\n",
              "        vertical-align: middle;\n",
              "    }\n",
              "\n",
              "    .dataframe tbody tr th {\n",
              "        vertical-align: top;\n",
              "    }\n",
              "\n",
              "    .dataframe thead th {\n",
              "        text-align: right;\n",
              "    }\n",
              "</style>\n",
              "<table border=\"1\" class=\"dataframe\">\n",
              "  <thead>\n",
              "    <tr style=\"text-align: right;\">\n",
              "      <th></th>\n",
              "      <th>area</th>\n",
              "      <th>rooms</th>\n",
              "      <th>bathroom</th>\n",
              "      <th>parking spaces</th>\n",
              "      <th>floor</th>\n",
              "      <th>animal</th>\n",
              "      <th>furniture</th>\n",
              "      <th>hoa (R$)</th>\n",
              "      <th>rent amount (R$)</th>\n",
              "      <th>property tax (R$)</th>\n",
              "    </tr>\n",
              "  </thead>\n",
              "  <tbody>\n",
              "    <tr>\n",
              "      <th>area</th>\n",
              "      <td>1.000000</td>\n",
              "      <td>0.306863</td>\n",
              "      <td>0.316543</td>\n",
              "      <td>0.300795</td>\n",
              "      <td>-0.038790</td>\n",
              "      <td>0.073565</td>\n",
              "      <td>-0.018145</td>\n",
              "      <td>0.056091</td>\n",
              "      <td>0.274749</td>\n",
              "      <td>0.065289</td>\n",
              "    </tr>\n",
              "    <tr>\n",
              "      <th>rooms</th>\n",
              "      <td>0.306863</td>\n",
              "      <td>1.000000</td>\n",
              "      <td>0.759432</td>\n",
              "      <td>0.645041</td>\n",
              "      <td>-0.092117</td>\n",
              "      <td>0.213963</td>\n",
              "      <td>-0.088931</td>\n",
              "      <td>0.136343</td>\n",
              "      <td>0.537622</td>\n",
              "      <td>0.071702</td>\n",
              "    </tr>\n",
              "    <tr>\n",
              "      <th>bathroom</th>\n",
              "      <td>0.316543</td>\n",
              "      <td>0.759432</td>\n",
              "      <td>1.000000</td>\n",
              "      <td>0.703530</td>\n",
              "      <td>-0.015503</td>\n",
              "      <td>0.159097</td>\n",
              "      <td>0.005864</td>\n",
              "      <td>0.163205</td>\n",
              "      <td>0.638924</td>\n",
              "      <td>0.101616</td>\n",
              "    </tr>\n",
              "    <tr>\n",
              "      <th>parking spaces</th>\n",
              "      <td>0.300795</td>\n",
              "      <td>0.645041</td>\n",
              "      <td>0.703530</td>\n",
              "      <td>1.000000</td>\n",
              "      <td>-0.038378</td>\n",
              "      <td>0.165253</td>\n",
              "      <td>-0.015155</td>\n",
              "      <td>0.115951</td>\n",
              "      <td>0.573373</td>\n",
              "      <td>0.092362</td>\n",
              "    </tr>\n",
              "    <tr>\n",
              "      <th>floor</th>\n",
              "      <td>-0.038790</td>\n",
              "      <td>-0.092117</td>\n",
              "      <td>-0.015503</td>\n",
              "      <td>-0.038378</td>\n",
              "      <td>1.000000</td>\n",
              "      <td>-0.014202</td>\n",
              "      <td>0.135180</td>\n",
              "      <td>0.107211</td>\n",
              "      <td>0.065294</td>\n",
              "      <td>0.005672</td>\n",
              "    </tr>\n",
              "    <tr>\n",
              "      <th>animal</th>\n",
              "      <td>0.073565</td>\n",
              "      <td>0.213963</td>\n",
              "      <td>0.159097</td>\n",
              "      <td>0.165253</td>\n",
              "      <td>-0.014202</td>\n",
              "      <td>1.000000</td>\n",
              "      <td>-0.066208</td>\n",
              "      <td>0.020575</td>\n",
              "      <td>0.107147</td>\n",
              "      <td>-0.005308</td>\n",
              "    </tr>\n",
              "    <tr>\n",
              "      <th>furniture</th>\n",
              "      <td>-0.018145</td>\n",
              "      <td>-0.088931</td>\n",
              "      <td>0.005864</td>\n",
              "      <td>-0.015155</td>\n",
              "      <td>0.135180</td>\n",
              "      <td>-0.066208</td>\n",
              "      <td>1.000000</td>\n",
              "      <td>0.042860</td>\n",
              "      <td>0.154316</td>\n",
              "      <td>-0.007852</td>\n",
              "    </tr>\n",
              "    <tr>\n",
              "      <th>hoa (R$)</th>\n",
              "      <td>0.056091</td>\n",
              "      <td>0.136343</td>\n",
              "      <td>0.163205</td>\n",
              "      <td>0.115951</td>\n",
              "      <td>0.107211</td>\n",
              "      <td>0.020575</td>\n",
              "      <td>0.042860</td>\n",
              "      <td>1.000000</td>\n",
              "      <td>0.188147</td>\n",
              "      <td>0.028872</td>\n",
              "    </tr>\n",
              "    <tr>\n",
              "      <th>rent amount (R$)</th>\n",
              "      <td>0.274749</td>\n",
              "      <td>0.537622</td>\n",
              "      <td>0.638924</td>\n",
              "      <td>0.573373</td>\n",
              "      <td>0.065294</td>\n",
              "      <td>0.107147</td>\n",
              "      <td>0.154316</td>\n",
              "      <td>0.188147</td>\n",
              "      <td>1.000000</td>\n",
              "      <td>0.091749</td>\n",
              "    </tr>\n",
              "    <tr>\n",
              "      <th>property tax (R$)</th>\n",
              "      <td>0.065289</td>\n",
              "      <td>0.071702</td>\n",
              "      <td>0.101616</td>\n",
              "      <td>0.092362</td>\n",
              "      <td>0.005672</td>\n",
              "      <td>-0.005308</td>\n",
              "      <td>-0.007852</td>\n",
              "      <td>0.028872</td>\n",
              "      <td>0.091749</td>\n",
              "      <td>1.000000</td>\n",
              "    </tr>\n",
              "  </tbody>\n",
              "</table>\n",
              "</div>\n",
              "      <button class=\"colab-df-convert\" onclick=\"convertToInteractive('df-e9c60d55-5e20-4fcb-b541-6988656f9ce0')\"\n",
              "              title=\"Convert this dataframe to an interactive table.\"\n",
              "              style=\"display:none;\">\n",
              "        \n",
              "  <svg xmlns=\"http://www.w3.org/2000/svg\" height=\"24px\"viewBox=\"0 0 24 24\"\n",
              "       width=\"24px\">\n",
              "    <path d=\"M0 0h24v24H0V0z\" fill=\"none\"/>\n",
              "    <path d=\"M18.56 5.44l.94 2.06.94-2.06 2.06-.94-2.06-.94-.94-2.06-.94 2.06-2.06.94zm-11 1L8.5 8.5l.94-2.06 2.06-.94-2.06-.94L8.5 2.5l-.94 2.06-2.06.94zm10 10l.94 2.06.94-2.06 2.06-.94-2.06-.94-.94-2.06-.94 2.06-2.06.94z\"/><path d=\"M17.41 7.96l-1.37-1.37c-.4-.4-.92-.59-1.43-.59-.52 0-1.04.2-1.43.59L10.3 9.45l-7.72 7.72c-.78.78-.78 2.05 0 2.83L4 21.41c.39.39.9.59 1.41.59.51 0 1.02-.2 1.41-.59l7.78-7.78 2.81-2.81c.8-.78.8-2.07 0-2.86zM5.41 20L4 18.59l7.72-7.72 1.47 1.35L5.41 20z\"/>\n",
              "  </svg>\n",
              "      </button>\n",
              "      \n",
              "  <style>\n",
              "    .colab-df-container {\n",
              "      display:flex;\n",
              "      flex-wrap:wrap;\n",
              "      gap: 12px;\n",
              "    }\n",
              "\n",
              "    .colab-df-convert {\n",
              "      background-color: #E8F0FE;\n",
              "      border: none;\n",
              "      border-radius: 50%;\n",
              "      cursor: pointer;\n",
              "      display: none;\n",
              "      fill: #1967D2;\n",
              "      height: 32px;\n",
              "      padding: 0 0 0 0;\n",
              "      width: 32px;\n",
              "    }\n",
              "\n",
              "    .colab-df-convert:hover {\n",
              "      background-color: #E2EBFA;\n",
              "      box-shadow: 0px 1px 2px rgba(60, 64, 67, 0.3), 0px 1px 3px 1px rgba(60, 64, 67, 0.15);\n",
              "      fill: #174EA6;\n",
              "    }\n",
              "\n",
              "    [theme=dark] .colab-df-convert {\n",
              "      background-color: #3B4455;\n",
              "      fill: #D2E3FC;\n",
              "    }\n",
              "\n",
              "    [theme=dark] .colab-df-convert:hover {\n",
              "      background-color: #434B5C;\n",
              "      box-shadow: 0px 1px 3px 1px rgba(0, 0, 0, 0.15);\n",
              "      filter: drop-shadow(0px 1px 2px rgba(0, 0, 0, 0.3));\n",
              "      fill: #FFFFFF;\n",
              "    }\n",
              "  </style>\n",
              "\n",
              "      <script>\n",
              "        const buttonEl =\n",
              "          document.querySelector('#df-e9c60d55-5e20-4fcb-b541-6988656f9ce0 button.colab-df-convert');\n",
              "        buttonEl.style.display =\n",
              "          google.colab.kernel.accessAllowed ? 'block' : 'none';\n",
              "\n",
              "        async function convertToInteractive(key) {\n",
              "          const element = document.querySelector('#df-e9c60d55-5e20-4fcb-b541-6988656f9ce0');\n",
              "          const dataTable =\n",
              "            await google.colab.kernel.invokeFunction('convertToInteractive',\n",
              "                                                     [key], {});\n",
              "          if (!dataTable) return;\n",
              "\n",
              "          const docLinkHtml = 'Like what you see? Visit the ' +\n",
              "            '<a target=\"_blank\" href=https://colab.research.google.com/notebooks/data_table.ipynb>data table notebook</a>'\n",
              "            + ' to learn more about interactive tables.';\n",
              "          element.innerHTML = '';\n",
              "          dataTable['output_type'] = 'display_data';\n",
              "          await google.colab.output.renderOutput(dataTable, element);\n",
              "          const docLink = document.createElement('div');\n",
              "          docLink.innerHTML = docLinkHtml;\n",
              "          element.appendChild(docLink);\n",
              "        }\n",
              "      </script>\n",
              "    </div>\n",
              "  </div>\n",
              "  "
            ]
          },
          "metadata": {},
          "execution_count": 45
        }
      ]
    },
    {
      "cell_type": "code",
      "source": [
        "# Yellowbrick\n",
        "from yellowbrick.features import Rank2D\n",
        "\n",
        "# Definir o metodo\n",
        "Correlacao = Rank2D( algoritmo='pearson' )\n",
        "\n",
        "# Fitar função\n",
        "Correlacao.fit( Caracteristicas, Previsor )\n",
        "Correlacao.transform( Caracteristicas )\n",
        "Correlacao.show();"
      ],
      "metadata": {
        "colab": {
          "base_uri": "https://localhost:8080/",
          "height": 454
        },
        "id": "eT14OaEMDRe_",
        "outputId": "0f22d0a8-0f97-4f2c-9a93-2a5e7ee6390b"
      },
      "execution_count": null,
      "outputs": [
        {
          "output_type": "display_data",
          "data": {
            "text/plain": [
              "<Figure size 1080x432 with 2 Axes>"
            ],
            "image/png": "[encoded data removed]"
          },
          "metadata": {}
        }
      ]
    },
    {
      "cell_type": "code",
      "source": [
        "# Separa os dadoos\n",
        "from sklearn.model_selection import train_test_split\n",
        "\n",
        "# Divisão dos dados\n",
        "x_treino, x_teste, y_treino, y_teste = train_test_split(\n",
        "    Caracteristicas, Previsor, test_size=0.2, random_state=10\n",
        ")\n",
        "\n",
        "print(f'Dados de Treino: { x_treino.shape[0] }')\n",
        "print(f'Dados de Teste: { x_teste.shape[0] }')"
      ],
      "metadata": {
        "colab": {
          "base_uri": "https://localhost:8080/"
        },
        "id": "w54TsGVuGkXX",
        "outputId": "68868e13-a765-436e-f88d-1d40ba40847c"
      },
      "execution_count": null,
      "outputs": [
        {
          "output_type": "stream",
          "name": "stdout",
          "text": [
            "Dados de Treino: 4709\n",
            "Dados de Teste: 1178\n"
          ]
        }
      ]
    },
    {
      "cell_type": "code",
      "source": [
        "# Features mais relevantes\n",
        "from sklearn.feature_selection import mutual_info_regression\n",
        "from sklearn.feature_selection import SelectKBest\n",
        "\n",
        "# Selecao de features\n",
        "def Selecao_Features( x_treino, y_treino ):\n",
        "\n",
        "  # Configurar para selecionar as features\n",
        "  Selecao = SelectKBest( score_func=mutual_info_regression, k=5 )\n",
        "\n",
        "  # Fitar o aprendizado\n",
        "  Selecao.fit( x_treino, y_treino )\n",
        "\n",
        "  return Selecao\n",
        "\n",
        "# Aplicar essa função\n",
        "Scores = Selecao_Features( x_treino, y_treino )\n",
        "\n",
        "# Analisar\n",
        "for Posicao, Score in enumerate( Scores.scores_ ):\n",
        "  print( f' { x_treino.columns[Posicao] } : {Score}' )"
      ],
      "metadata": {
        "colab": {
          "base_uri": "https://localhost:8080/"
        },
        "id": "uSQlPrSKHlFe",
        "outputId": "c59fea93-8ba4-4e96-b599-a58fbc4b9b96"
      },
      "execution_count": null,
      "outputs": [
        {
          "output_type": "stream",
          "name": "stdout",
          "text": [
            " area : 0.06761528482966472\n",
            " rooms : 0.26476418518296363\n",
            " bathroom : 0.31727017379412503\n",
            " parking spaces : 0.24436242899443616\n",
            " floor : 0.03362566159392033\n",
            " animal : 0.05020374155445051\n",
            " furniture : 0.031525538752686266\n",
            " hoa (R$) : 0.059365450621086335\n",
            " property tax (R$) : 0.17204323286314738\n"
          ]
        }
      ]
    },
    {
      "cell_type": "markdown",
      "source": [
        "# **Construção do Modelo**"
      ],
      "metadata": {
        "id": "N1jGIm16I9B7"
      }
    },
    {
      "cell_type": "code",
      "source": [
        "# Modelo Random Forest Regresson\n",
        "from sklearn.ensemble import RandomForestRegressor\n",
        "\n",
        "# Instanciar\n",
        "Modelo_Floresta = RandomForestRegressor( max_depth=5 )\n",
        "\n",
        "# Fitar \n",
        "Modelo_Floresta.fit( x_treino, y_treino )"
      ],
      "metadata": {
        "colab": {
          "base_uri": "https://localhost:8080/"
        },
        "id": "6ge11TPnJc4o",
        "outputId": "10478580-425b-4b36-c57e-f110573a139c"
      },
      "execution_count": null,
      "outputs": [
        {
          "output_type": "execute_result",
          "data": {
            "text/plain": [
              "RandomForestRegressor(max_depth=5)"
            ]
          },
          "metadata": {},
          "execution_count": 49
        }
      ]
    },
    {
      "cell_type": "code",
      "source": [
        "# Avaliar a performance\n",
        "Previsoes = Modelo_Floresta.predict( x_teste )\n",
        "\n",
        "# Funcao para avaliar\n",
        "from sklearn.metrics import mean_squared_error, r2_score\n",
        "from math import sqrt\n",
        "\n",
        "print(f'RMSE: { sqrt(mean_squared_error( y_teste, Previsoes ) ) } ')\n",
        "print(f'Score: { r2_score( y_teste, Previsoes ) } ')"
      ],
      "metadata": {
        "colab": {
          "base_uri": "https://localhost:8080/"
        },
        "id": "XRYLt1QeKZNT",
        "outputId": "430345a4-8d35-4d28-d3e2-c0dbd43d124c"
      },
      "execution_count": null,
      "outputs": [
        {
          "output_type": "stream",
          "name": "stdout",
          "text": [
            "RMSE: 2452.098686953793 \n",
            "Score: 0.5648213628859888 \n"
          ]
        }
      ]
    },
    {
      "cell_type": "code",
      "source": [
        "# Avaliando Yellowbrick\n",
        "from yellowbrick.regressor import PredictionError\n",
        "\n",
        "# Instanciar\n",
        "Modelo = RandomForestRegressor( max_depth=5 )\n",
        "Erro_Modelo = PredictionError( Modelo )\n",
        "\n",
        "# Fitar\n",
        "Erro_Modelo.fit( x_treino, y_treino )\n",
        "Erro_Modelo.score( x_teste, y_teste )\n",
        "Erro_Modelo.show();"
      ],
      "metadata": {
        "colab": {
          "base_uri": "https://localhost:8080/",
          "height": 405
        },
        "id": "8Wlk2fXmK7oP",
        "outputId": "e8202e53-c77e-4196-b7d3-1fa058f09b4f"
      },
      "execution_count": null,
      "outputs": [
        {
          "output_type": "display_data",
          "data": {
            "text/plain": [
              "<Figure size 1080x432 with 1 Axes>"
            ],
            "image/png": "[encoded data removed]"
          },
          "metadata": {}
        }
      ]
    },
    {
      "cell_type": "markdown",
      "source": [
        "# **Exportação**"
      ],
      "metadata": {
        "id": "VhPd5Mu2RwXN"
      }
    },
    {
      "cell_type": "code",
      "source": [
        "# Exportando o modelo\n",
        "import joblib\n",
        "\n",
        "# Função\n",
        "joblib.dump( Modelo_Floresta, 'Modelo_Floresta_Aleatorio_v100.pkl')"
      ],
      "metadata": {
        "colab": {
          "base_uri": "https://localhost:8080/"
        },
        "id": "vDh2hFOnOVSj",
        "outputId": "912cab4b-6fc7-4458-da11-ed5e92211d13"
      },
      "execution_count": null,
      "outputs": [
        {
          "output_type": "execute_result",
          "data": {
            "text/plain": [
              "['Modelo_Floresta_Aleatorio_v100.pkl']"
            ]
          },
          "metadata": {},
          "execution_count": 52
        }
      ]
    },
    {
      "cell_type": "code",
      "source": [
        "# Testando o modelo treinado\n",
        "Funcao_Modelo_Carregado = joblib.load('Modelo_Floresta_Aleatorio_v100.pkl')"
      ],
      "metadata": {
        "id": "pCMWsFDuOh4t"
      },
      "execution_count": null,
      "outputs": []
    },
    {
      "cell_type": "code",
      "source": [
        "# Testando\n",
        "Funcao_Modelo_Carregado.predict( x_teste.head(1).values )"
      ],
      "metadata": {
        "colab": {
          "base_uri": "https://localhost:8080/"
        },
        "id": "nbZNFzpVOpEQ",
        "outputId": "545b4ff1-0a87-456f-d702-ddf7959f8dbf"
      },
      "execution_count": null,
      "outputs": [
        {
          "output_type": "execute_result",
          "data": {
            "text/plain": [
              "array([1539.15372253])"
            ]
          },
          "metadata": {},
          "execution_count": 54
        }
      ]
    },
    {
      "cell_type": "code",
      "source": [
        "x_teste.head(2).values"
      ],
      "metadata": {
        "id": "o4CKM_whOs0t",
        "outputId": "634a8d67-1b30-4708-d302-67131cbd515a",
        "colab": {
          "base_uri": "https://localhost:8080/"
        }
      },
      "execution_count": null,
      "outputs": [
        {
          "output_type": "execute_result",
          "data": {
            "text/plain": [
              "array([[ 25,   1,   1,   0,   0,   0,   0,   0,  84],\n",
              "       [480,   4,   5,   3,   0,   1,   0,   0, 742]])"
            ]
          },
          "metadata": {},
          "execution_count": 55
        }
      ]
    }
  ]
}